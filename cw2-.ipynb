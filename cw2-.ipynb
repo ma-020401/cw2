{
 "cells": [
  {
   "cell_type": "code",
   "execution_count": null,
   "metadata": {},
   "outputs": [],
   "source": [
    "##https://www.kaggle.com/rounakbanik/pokemon\n",
    "##Постройте классификатор, отвечающий на вопрос 'является ли покемон легендарным?'.\n",
    "##Какой из видов покемонов самый сильный и какой самый слабый?\n",
    "##Наберите команду из N покемонов, максимизирующую причиняемый урон.\n"
   ]
  },
  {
   "cell_type": "code",
   "execution_count": 6,
   "metadata": {},
   "outputs": [
    {
     "ename": "SyntaxError",
     "evalue": "invalid syntax (<ipython-input-6-df57fda7aec0>, line 1)",
     "output_type": "error",
     "traceback": [
      "\u001b[1;36m  File \u001b[1;32m\"<ipython-input-6-df57fda7aec0>\"\u001b[1;36m, line \u001b[1;32m1\u001b[0m\n\u001b[1;33m    ludwig train --data_csv pokemon.csv --model_definition\u001b[0m\n\u001b[1;37m               ^\u001b[0m\n\u001b[1;31mSyntaxError\u001b[0m\u001b[1;31m:\u001b[0m invalid syntax\n"
     ]
    }
   ],
   "source": [
    "ludwig train --data_csv pokemon.csv --model_definition\n",
    "\"{input_features: [{name: abilities, type: numerical}{name: against_bug, type: numerical}{name: against_dark, type: numerical}{name: against_dragon, type: numerical}{name: against_electric, type: numerical}{name: against_fairy, type: numerical}{name: against_fight, type: numerical}{name: against_fire, type: numerical}{name: against_flying, type: numerical}{name: against_ghost, type: numerical}{name: against_grass, type: numerical}{name: against_ground, type: numerical}{name: against_ice, type: numerical}{name: against_normal, type: numerical}{name: against_poison, type: numerical}{name: against_psychic, type: numerical}], output_features: [{name: is_legendary, type: binary}]}\""
   ]
  },
  {
   "cell_type": "code",
   "execution_count": null,
   "metadata": {},
   "outputs": [],
   "source": [
    "##Sandshrew самый слабый, Mewtwo самый сильный по sp_attac\n",
    "##Ранжировать по необходимому признаку и выбрать N первых (неизвестно, сколько N)"
   ]
  }
 ],
 "metadata": {
  "kernelspec": {
   "display_name": "Python 3",
   "language": "python",
   "name": "python3"
  },
  "language_info": {
   "codemirror_mode": {
    "name": "ipython",
    "version": 3
   },
   "file_extension": ".py",
   "mimetype": "text/x-python",
   "name": "python",
   "nbconvert_exporter": "python",
   "pygments_lexer": "ipython3",
   "version": "3.7.6"
  }
 },
 "nbformat": 4,
 "nbformat_minor": 4
}
